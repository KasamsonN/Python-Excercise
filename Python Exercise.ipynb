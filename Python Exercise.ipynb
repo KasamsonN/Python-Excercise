{
 "cells": [
  {
   "cell_type": "code",
   "execution_count": null,
   "id": "committed-liberia",
   "metadata": {},
   "outputs": [],
   "source": [
    "# Book Python Excercises for Beginners\n",
    "#https://www.programiz.com/python-programming/operators"
   ]
  },
  {
   "cell_type": "markdown",
   "id": "finite-internet",
   "metadata": {},
   "source": [
    "#### 1) Write a program to Add Two numbers \n"
   ]
  },
  {
   "cell_type": "code",
   "execution_count": null,
   "id": "large-cooling",
   "metadata": {},
   "outputs": [],
   "source": [
    "'Solution 1'\n",
    "a , b = int(input()),int(input())\n",
    "print('The sum is =',a+b)"
   ]
  },
  {
   "cell_type": "markdown",
   "id": "illegal-pottery",
   "metadata": {},
   "source": [
    "#### 2) Write a program to find whether a given number (accept from the user) is evem or  odd, print out an appropiate message to the user."
   ]
  },
  {
   "cell_type": "code",
   "execution_count": null,
   "id": "super-jungle",
   "metadata": {},
   "outputs": [],
   "source": [
    "'Solution 1'\n",
    "a , b = int(input('Enter a number:')),int(input('Enter a number:'))\n",
    "if a % 2 == 0:   # / as quotient , % as Remainder. \n",
    "    print('This is an even number.')\n",
    "else:\n",
    "    print('this an odd number.')\n"
   ]
  },
  {
   "cell_type": "markdown",
   "id": "closing-mailing",
   "metadata": {},
   "source": [
    "#### 3) Write a program to check whether  a number entered by the user is positive, negative or zero"
   ]
  },
  {
   "cell_type": "code",
   "execution_count": null,
   "id": "cutting-applicant",
   "metadata": {},
   "outputs": [],
   "source": [
    "'Solution 1'\n",
    "a  = int(input('Enter a number:'))\n",
    "if a == abs(a)  :\n",
    "    print('This is an positive number.')\n",
    "if a == -(a) :\n",
    "    print('this an negative number.')\n",
    "elif  a == 0 :\n",
    "    print('this is Zero number.')"
   ]
  },
  {
   "cell_type": "code",
   "execution_count": null,
   "id": "fuzzy-appointment",
   "metadata": {},
   "outputs": [],
   "source": [
    "'Solution 2'\n",
    "a  = int(input('Enter a number:'))\n",
    "if a > 0  :\n",
    "    print('Positive number.')\n",
    "elif  a == 0 :\n",
    "    print('Zero.')\n",
    "else:\n",
    "    Print('Negative number.')"
   ]
  },
  {
   "cell_type": "markdown",
   "id": "varying-means",
   "metadata": {},
   "source": [
    "#### 4) Write a program to display the calendar of a given date."
   ]
  },
  {
   "cell_type": "code",
   "execution_count": null,
   "id": "substantial-understanding",
   "metadata": {},
   "outputs": [],
   "source": [
    "import calendar \n",
    "yy = int(input('Enter year :'))\n",
    "MM = int(input('Enter month :'))\n",
    "#DD = int(input('Enter day :'))\n",
    "print(calendar.month(yy,MM,DD))"
   ]
  },
  {
   "cell_type": "markdown",
   "id": "colonial-looking",
   "metadata": {},
   "source": [
    "#### 5) Write a program to ask the user enter the string and print that string as output of the program.\n"
   ]
  },
  {
   "cell_type": "code",
   "execution_count": null,
   "id": "ranging-interference",
   "metadata": {},
   "outputs": [],
   "source": [
    "'Solution 1'\n",
    "Y = int(input('Enter a string :'))\n",
    "N = str(Y)\n",
    "print ( 'string : ',N)"
   ]
  },
  {
   "cell_type": "code",
   "execution_count": null,
   "id": "loving-recovery",
   "metadata": {},
   "outputs": [],
   "source": [
    "'Solution 2'\n",
    "string = input('Enter string:')\n",
    "print('You entered :',string)"
   ]
  },
  {
   "cell_type": "markdown",
   "id": "aggressive-victorian",
   "metadata": {},
   "source": [
    "#### 6) Write a program to concatenate Two strings."
   ]
  },
  {
   "cell_type": "code",
   "execution_count": null,
   "id": "alert-maria",
   "metadata": {},
   "outputs": [],
   "source": [
    "string1 ,string2= input('Enter string :'), input('Enter string:')\n",
    "concatenate = string1 + string2\n",
    "print( 'string after concatenation',concatenate)"
   ]
  },
  {
   "cell_type": "markdown",
   "id": "average-sacramento",
   "metadata": {},
   "source": [
    "#### 7) Write a program to Check if an item exist in the list."
   ]
  },
  {
   "cell_type": "code",
   "execution_count": null,
   "id": "unlikely-villa",
   "metadata": {},
   "outputs": [],
   "source": [
    "list = ['Bread','Oranges','Milk']\n",
    "item = input('Typer item to check:')\n",
    "if item in list :\n",
    "    print('Item exist in the list.')\n",
    "else:                              # Else is an extra requeriment , its not neccesary to add.\n",
    "    print('Item doesn`t exist.')"
   ]
  },
  {
   "cell_type": "markdown",
   "id": "mexican-camping",
   "metadata": {},
   "source": [
    "#### 8) Write a program to Join two or more lists."
   ]
  },
  {
   "cell_type": "code",
   "execution_count": null,
   "id": "reverse-hungary",
   "metadata": {},
   "outputs": [],
   "source": [
    "list1 = ['Bread','Oranges','Milk']\n",
    "list2 = ['Banana','Pizza','Apple']\n",
    "final_list = list1 + list2 \n",
    "print(final_list)"
   ]
  },
  {
   "cell_type": "markdown",
   "id": "raising-updating",
   "metadata": {},
   "source": [
    "#### 9) Write a program to Calculate  Cube  of a Number."
   ]
  },
  {
   "cell_type": "code",
   "execution_count": null,
   "id": "instant-bracket",
   "metadata": {},
   "outputs": [],
   "source": [
    "'Solution 1'\n",
    "a = int(input('Enter a number :'))\n",
    "calculate1 = (a)**1/3 # It`s not exact.\n",
    "print('Cubic Root Mean :',calculate1)"
   ]
  },
  {
   "cell_type": "code",
   "execution_count": null,
   "id": "flying-chocolate",
   "metadata": {},
   "outputs": [],
   "source": [
    "'Solution 2'\n",
    "import math\n",
    "a = int(input('Enter a number :'))\n",
    "calculate2 = math.pow(a,3)  #math.pow or just pow(a,number of power)\n",
    "print('Cubic Root Mean :',calculate2)"
   ]
  },
  {
   "cell_type": "markdown",
   "id": "yellow-explorer",
   "metadata": {},
   "source": [
    "#### 10) Write a program to  Calculate Square root of a number.\n"
   ]
  },
  {
   "cell_type": "code",
   "execution_count": null,
   "id": "continental-current",
   "metadata": {},
   "outputs": [],
   "source": [
    "'Solution 1'\n",
    "a = int(input('Enter a number :'))\n",
    "cal_sqr = (a)**1/2 # It`s not exact.\n",
    "print('Square Root Mean :',cal_sqr)"
   ]
  },
  {
   "cell_type": "code",
   "execution_count": null,
   "id": "informative-project",
   "metadata": {},
   "outputs": [],
   "source": [
    "'Solution 2'\n",
    "import math \n",
    "a = int(input('Enter a number :'))\n",
    "b = math.sqrt(a) # This is more accurate\n",
    "print('Square Root Mean :',round(b,3))\n"
   ]
  },
  {
   "cell_type": "markdown",
   "id": "fitting-consumer",
   "metadata": {},
   "source": [
    "#### 11)  Write a program that takes a list of numbers (for example, a = [5,10,15,20,25])  and \n",
    "#### makes a  new list of only the first and last elements of the given list. "
   ]
  },
  {
   "cell_type": "code",
   "execution_count": null,
   "id": "subject-tennis",
   "metadata": {},
   "outputs": [],
   "source": [
    "'Solution 1'\n",
    "List3 = [1,2,3,4,5]\n",
    "print([List3[0],List3[4]])\n"
   ]
  },
  {
   "cell_type": "markdown",
   "id": "internal-negative",
   "metadata": {},
   "source": [
    "#### 12)  Take a list, say for example this one: a = [1, 1, 2, 3, 5, 8, 13, 21, 34, 55, 89] and \n",
    "#### write a program that prints out all the elements of the line that are less than 5."
   ]
  },
  {
   "cell_type": "code",
   "execution_count": 7,
   "id": "polish-holiday",
   "metadata": {},
   "outputs": [
    {
     "name": "stdout",
     "output_type": "stream",
     "text": [
      "1\n",
      "1\n",
      "2\n",
      "3\n"
     ]
    }
   ],
   "source": [
    "a = [1, 1, 2, 3, 5, 8, 13, 21, 34, 55, 89]\n",
    "for i in a:\n",
    "    if i < 5:\n",
    "        print(i)"
   ]
  },
  {
   "cell_type": "markdown",
   "id": "pointed-monkey",
   "metadata": {},
   "source": [
    "#### 13) Let`s say I give you a list saved in a variable : a = [1, 4, 9, 16, 25, 36, 49, 64, 81, 100].\n",
    "#### Write one line of Python that takes this list 'a' and makes a new list that only \n",
    "#### the even elements of this list in it."
   ]
  },
  {
   "cell_type": "code",
   "execution_count": null,
   "id": "severe-israeli",
   "metadata": {},
   "outputs": [],
   "source": [
    "a = [1, 4, 9, 16, 25, 36, 49, 64, 81, 100]\n",
    "b = [number for number in a if number % 2 == 0]\n",
    "print(b)\n"
   ]
  },
  {
   "cell_type": "markdown",
   "id": "dimensional-permit",
   "metadata": {},
   "source": [
    "#### 14) Ask the user for a string and print out whether this string is palindrome or nor ( A palindrome \n",
    "#### is  a string that reads the same forwards and backwards)."
   ]
  },
  {
   "cell_type": "code",
   "execution_count": null,
   "id": "romantic-creator",
   "metadata": {},
   "outputs": [],
   "source": [
    "a = (input('Enter a word :')\n",
    "c = a.casefold()\n",
    "b = reversed(c)\n",
    "if list(c) == list(b):\n",
    "     print('It´s  palindrome')\n",
    "else:\n",
    "     print('It´s not palindrome')"
   ]
  },
  {
   "cell_type": "markdown",
   "id": "tender-inclusion",
   "metadata": {},
   "source": [
    "#### 15)\n",
    "####"
   ]
  },
  {
   "cell_type": "code",
   "execution_count": null,
   "id": "hollow-intervention",
   "metadata": {},
   "outputs": [],
   "source": []
  },
  {
   "cell_type": "markdown",
   "id": "invalid-mailman",
   "metadata": {},
   "source": [
    "#### 16) Make a program to add a string to text file.\n"
   ]
  },
  {
   "cell_type": "code",
   "execution_count": 2,
   "id": "apart-module",
   "metadata": {},
   "outputs": [],
   "source": [
    "file = open(\"testfile.txt\",\"w\")\n",
    "file.write(\"HEllo world\")\n",
    "file.write(\"This is our new text file\")\n",
    "file.write(\"and this is another line\")\n",
    "file.write(\"Why? Because we can.\")\n",
    "file.close()"
   ]
  },
  {
   "cell_type": "markdown",
   "id": "respected-hamburg",
   "metadata": {},
   "source": [
    "#### 17) Make a program to read a file and display its content on console."
   ]
  },
  {
   "cell_type": "code",
   "execution_count": 5,
   "id": "jewish-aggregate",
   "metadata": {},
   "outputs": [
    {
     "name": "stdout",
     "output_type": "stream",
     "text": [
      "HEllo worldThis is our new text filen\u0007nd this is another lineWhy? Because we can.\n"
     ]
    }
   ],
   "source": [
    "'Solution 1'\n",
    "with open('testfile.txt') as f:\n",
    "    line = f.readline()\n",
    "    while line:\n",
    "        print(line)\n",
    "        Line = f.readline()\n",
    "        break # solution for end a cycle"
   ]
  },
  {
   "cell_type": "code",
   "execution_count": 6,
   "id": "becoming-trance",
   "metadata": {},
   "outputs": [
    {
     "data": {
      "text/html": [
       "<div>\n",
       "<style scoped>\n",
       "    .dataframe tbody tr th:only-of-type {\n",
       "        vertical-align: middle;\n",
       "    }\n",
       "\n",
       "    .dataframe tbody tr th {\n",
       "        vertical-align: top;\n",
       "    }\n",
       "\n",
       "    .dataframe thead th {\n",
       "        text-align: right;\n",
       "    }\n",
       "</style>\n",
       "<table border=\"1\" class=\"dataframe\">\n",
       "  <thead>\n",
       "    <tr style=\"text-align: right;\">\n",
       "      <th></th>\n",
       "      <th>t</th>\n",
       "      <th>An_x</th>\n",
       "      <th>An_y</th>\n",
       "      <th>An_z</th>\n",
       "      <th>Kn_x</th>\n",
       "      <th>kn_y</th>\n",
       "      <th>kn_z</th>\n",
       "      <th>Hi_x</th>\n",
       "      <th>Hi_y</th>\n",
       "      <th>Hi_z</th>\n",
       "    </tr>\n",
       "  </thead>\n",
       "  <tbody>\n",
       "    <tr>\n",
       "      <th>0</th>\n",
       "      <td>0.00</td>\n",
       "      <td>20.009200</td>\n",
       "      <td>-8.48916</td>\n",
       "      <td>33.3345</td>\n",
       "      <td>6.90174</td>\n",
       "      <td>6.57003</td>\n",
       "      <td>-18.9054</td>\n",
       "      <td>-9.74358</td>\n",
       "      <td>-2.34660</td>\n",
       "      <td>-17.3050</td>\n",
       "    </tr>\n",
       "    <tr>\n",
       "      <th>1</th>\n",
       "      <td>0.01</td>\n",
       "      <td>20.563700</td>\n",
       "      <td>-8.59186</td>\n",
       "      <td>33.5815</td>\n",
       "      <td>7.29593</td>\n",
       "      <td>6.53769</td>\n",
       "      <td>-18.7894</td>\n",
       "      <td>-10.01730</td>\n",
       "      <td>-2.35806</td>\n",
       "      <td>-17.4117</td>\n",
       "    </tr>\n",
       "    <tr>\n",
       "      <th>2</th>\n",
       "      <td>0.02</td>\n",
       "      <td>21.254800</td>\n",
       "      <td>-8.71313</td>\n",
       "      <td>33.8712</td>\n",
       "      <td>7.81402</td>\n",
       "      <td>6.48471</td>\n",
       "      <td>-18.6463</td>\n",
       "      <td>-10.35290</td>\n",
       "      <td>-2.36882</td>\n",
       "      <td>-17.5009</td>\n",
       "    </tr>\n",
       "    <tr>\n",
       "      <th>3</th>\n",
       "      <td>0.03</td>\n",
       "      <td>22.048100</td>\n",
       "      <td>-8.84436</td>\n",
       "      <td>34.1824</td>\n",
       "      <td>8.44591</td>\n",
       "      <td>6.40438</td>\n",
       "      <td>-18.4752</td>\n",
       "      <td>-10.73530</td>\n",
       "      <td>-2.37574</td>\n",
       "      <td>-17.5648</td>\n",
       "    </tr>\n",
       "    <tr>\n",
       "      <th>4</th>\n",
       "      <td>0.04</td>\n",
       "      <td>22.899000</td>\n",
       "      <td>-8.97736</td>\n",
       "      <td>34.4953</td>\n",
       "      <td>9.17894</td>\n",
       "      <td>6.28959</td>\n",
       "      <td>-18.2752</td>\n",
       "      <td>-11.14560</td>\n",
       "      <td>-2.37728</td>\n",
       "      <td>-17.6043</td>\n",
       "    </tr>\n",
       "    <tr>\n",
       "      <th>...</th>\n",
       "      <td>...</td>\n",
       "      <td>...</td>\n",
       "      <td>...</td>\n",
       "      <td>...</td>\n",
       "      <td>...</td>\n",
       "      <td>...</td>\n",
       "      <td>...</td>\n",
       "      <td>...</td>\n",
       "      <td>...</td>\n",
       "      <td>...</td>\n",
       "    </tr>\n",
       "    <tr>\n",
       "      <th>292</th>\n",
       "      <td>2.92</td>\n",
       "      <td>0.924739</td>\n",
       "      <td>-6.65668</td>\n",
       "      <td>28.6741</td>\n",
       "      <td>13.48760</td>\n",
       "      <td>4.43024</td>\n",
       "      <td>-18.4033</td>\n",
       "      <td>22.24010</td>\n",
       "      <td>-5.39360</td>\n",
       "      <td>-14.1690</td>\n",
       "    </tr>\n",
       "    <tr>\n",
       "      <th>293</th>\n",
       "      <td>2.93</td>\n",
       "      <td>0.892711</td>\n",
       "      <td>-6.57016</td>\n",
       "      <td>28.4422</td>\n",
       "      <td>14.40410</td>\n",
       "      <td>4.55136</td>\n",
       "      <td>-17.9990</td>\n",
       "      <td>22.24300</td>\n",
       "      <td>-5.29554</td>\n",
       "      <td>-14.3762</td>\n",
       "    </tr>\n",
       "    <tr>\n",
       "      <th>294</th>\n",
       "      <td>2.94</td>\n",
       "      <td>0.933663</td>\n",
       "      <td>-6.51743</td>\n",
       "      <td>28.3002</td>\n",
       "      <td>14.97780</td>\n",
       "      <td>4.64494</td>\n",
       "      <td>-17.7549</td>\n",
       "      <td>22.22310</td>\n",
       "      <td>-5.23586</td>\n",
       "      <td>-14.4921</td>\n",
       "    </tr>\n",
       "    <tr>\n",
       "      <th>295</th>\n",
       "      <td>2.95</td>\n",
       "      <td>0.972032</td>\n",
       "      <td>-6.49422</td>\n",
       "      <td>28.2376</td>\n",
       "      <td>15.23380</td>\n",
       "      <td>4.69355</td>\n",
       "      <td>-17.6493</td>\n",
       "      <td>22.20470</td>\n",
       "      <td>-5.20916</td>\n",
       "      <td>-14.5378</td>\n",
       "    </tr>\n",
       "    <tr>\n",
       "      <th>296</th>\n",
       "      <td>2.96</td>\n",
       "      <td>0.983605</td>\n",
       "      <td>-6.48912</td>\n",
       "      <td>28.2239</td>\n",
       "      <td>15.29080</td>\n",
       "      <td>4.70545</td>\n",
       "      <td>-17.6263</td>\n",
       "      <td>22.19900</td>\n",
       "      <td>-5.20312</td>\n",
       "      <td>-14.5470</td>\n",
       "    </tr>\n",
       "  </tbody>\n",
       "</table>\n",
       "<p>297 rows × 10 columns</p>\n",
       "</div>"
      ],
      "text/plain": [
       "        t       An_x     An_y     An_z      Kn_x     kn_y     kn_z     Hi_x   \\\n",
       "0    0.00  20.009200 -8.48916  33.3345   6.90174  6.57003 -18.9054  -9.74358   \n",
       "1    0.01  20.563700 -8.59186  33.5815   7.29593  6.53769 -18.7894 -10.01730   \n",
       "2    0.02  21.254800 -8.71313  33.8712   7.81402  6.48471 -18.6463 -10.35290   \n",
       "3    0.03  22.048100 -8.84436  34.1824   8.44591  6.40438 -18.4752 -10.73530   \n",
       "4    0.04  22.899000 -8.97736  34.4953   9.17894  6.28959 -18.2752 -11.14560   \n",
       "..    ...        ...      ...      ...       ...      ...      ...       ...   \n",
       "292  2.92   0.924739 -6.65668  28.6741  13.48760  4.43024 -18.4033  22.24010   \n",
       "293  2.93   0.892711 -6.57016  28.4422  14.40410  4.55136 -17.9990  22.24300   \n",
       "294  2.94   0.933663 -6.51743  28.3002  14.97780  4.64494 -17.7549  22.22310   \n",
       "295  2.95   0.972032 -6.49422  28.2376  15.23380  4.69355 -17.6493  22.20470   \n",
       "296  2.96   0.983605 -6.48912  28.2239  15.29080  4.70545 -17.6263  22.19900   \n",
       "\n",
       "        Hi_y     Hi_z  \n",
       "0   -2.34660 -17.3050  \n",
       "1   -2.35806 -17.4117  \n",
       "2   -2.36882 -17.5009  \n",
       "3   -2.37574 -17.5648  \n",
       "4   -2.37728 -17.6043  \n",
       "..       ...      ...  \n",
       "292 -5.39360 -14.1690  \n",
       "293 -5.29554 -14.3762  \n",
       "294 -5.23586 -14.4921  \n",
       "295 -5.20916 -14.5378  \n",
       "296 -5.20312 -14.5470  \n",
       "\n",
       "[297 rows x 10 columns]"
      ]
     },
     "execution_count": 6,
     "metadata": {},
     "output_type": "execute_result"
    }
   ],
   "source": [
    "'Solution 2'\n",
    "import pandas as pd\n",
    "D = pd.read_csv('C:/Users/folder/folder/file.csv', sep=';')\n",
    "D"
   ]
  },
  {
   "cell_type": "code",
   "execution_count": null,
   "id": "imposed-satellite",
   "metadata": {},
   "outputs": [],
   "source": []
  }
 ],
 "metadata": {
  "kernelspec": {
   "display_name": "Python 3",
   "language": "python",
   "name": "python3"
  },
  "language_info": {
   "codemirror_mode": {
    "name": "ipython",
    "version": 3
   },
   "file_extension": ".py",
   "mimetype": "text/x-python",
   "name": "python",
   "nbconvert_exporter": "python",
   "pygments_lexer": "ipython3",
   "version": "3.7.10"
  }
 },
 "nbformat": 4,
 "nbformat_minor": 5
}
